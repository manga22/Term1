{
  "nbformat": 4,
  "nbformat_minor": 0,
  "metadata": {
    "colab": {
      "name": "CMOAssignment2.ipynb",
      "provenance": []
    },
    "kernelspec": {
      "name": "python3",
      "display_name": "Python 3"
    }
  },
  "cells": [
    {
      "cell_type": "code",
      "metadata": {
        "id": "Z3wL93V7NW8m"
      },
      "source": [
        "import dill\r\n",
        "import pickle\r\n",
        "import numpy as np"
      ],
      "execution_count": 14,
      "outputs": []
    },
    {
      "cell_type": "code",
      "metadata": {
        "id": "cOIdidosNi68"
      },
      "source": [
        "#Q5 part a \r\n",
        "fx = dill.loads(pickle.load(open('/content/f5.pkl','rb')))\r\n",
        "grad = dill.loads(pickle.load(open('/content/grad_f5.pkl','rb')))\r\n",
        "hess = dill.loads(pickle.load(open('/content/hess_f5.pkl','rb')))"
      ],
      "execution_count": 15,
      "outputs": []
    },
    {
      "cell_type": "code",
      "metadata": {
        "id": "7S5GxbEeSGZm"
      },
      "source": [
        "#Q5 part b\r\n",
        "b = np.array([0.76, 0.08, 1.12, 0.68])\r\n",
        "Q = np.array([[0.78, -0.02, -0.12, -0.14],[-0.02,0.86,-0.04,0.06],[-0.12,-0.04,0.72,-0.08],[-0.14,0.06,-0.08,0.74]])\r\n",
        "\r\n",
        "def hess():\r\n",
        "  return Q\r\n",
        "def grad(x):\r\n",
        "  return np.matmul(hess(),x) - b\r\n",
        "def fx(x):\r\n",
        "  return 0.5 * np.sum(x * np.matmul(hess(),x)) - np.sum(b*x)"
      ],
      "execution_count": 99,
      "outputs": []
    },
    {
      "cell_type": "code",
      "metadata": {
        "id": "M0x846-WOW_l"
      },
      "source": [
        "def l2_norm(x):\r\n",
        "    x = np.array(x)\r\n",
        "    return np.sqrt(np.sum(x * x))\r\n",
        "\r\n",
        "def grad_descent(X0, alpha=None, eps=None, method='Gradient descent'):\r\n",
        "    X=X0\r\n",
        "    grad_x=np.array(grad(X))\r\n",
        "    k=0\r\n",
        "    while(l2_norm(grad_x)>eps):\r\n",
        "        k+=1\r\n",
        "        alpha = np.sum(grad_x*grad_x)/(np.sum(grad_x * np.matmul(hess(),grad_x)))\r\n",
        "        X=X-alpha*grad_x\r\n",
        "        grad_x=np.array(grad(X))\r\n",
        "        print(f'iter {k} : f(x)={fx(X)} grad(x)={l2_norm(grad(X))}')\r\n",
        "    print(f'final f(x) at {k}th iter : {fx(X)}')\r\n",
        "    return k"
      ],
      "execution_count": 106,
      "outputs": []
    },
    {
      "cell_type": "code",
      "metadata": {
        "id": "NQPCwiahO1qp"
      },
      "source": [
        "#X0 = np.array([0, 10])   #Q5 Part a\r\n",
        "X0 = np.array([0,0,0,0])  #Q5 Part b\r\n",
        "k = grad_descent(X0, eps = 10**(-6))"
      ],
      "execution_count": null,
      "outputs": []
    },
    {
      "cell_type": "code",
      "metadata": {
        "id": "6h64RvNraDgD"
      },
      "source": [
        "#Verify result\r\n",
        "x_opt = np.matmul(np.linalg.inv(hess()), b)\r\n",
        "print(f'X_true = {x_opt}')\r\n",
        "print(f'f(X_true) = {fx(x_opt)}')"
      ],
      "execution_count": null,
      "outputs": []
    },
    {
      "cell_type": "markdown",
      "metadata": {
        "id": "h3WksE7ncqmP"
      },
      "source": [
        "# Q6 Inexact line search "
      ]
    },
    {
      "cell_type": "code",
      "metadata": {
        "id": "s2bkWCAucpv6"
      },
      "source": [
        "#Q6 Backtracking inexact line search\r\n",
        "fx = dill.loads(pickle.load(open('/content/f6.pkl','rb')))\r\n",
        "grad = dill.loads(pickle.load(open('/content/grad_f6.pkl','rb')))"
      ],
      "execution_count": 145,
      "outputs": []
    },
    {
      "cell_type": "code",
      "metadata": {
        "id": "hO1_OpqTdAwB"
      },
      "source": [
        "def backtracking(X0, alpha=0.5, beta=0.5, eps=10**(-7)):\r\n",
        "    X = X0\r\n",
        "    u = -1*grad(X)\r\n",
        "    t=1\r\n",
        "    k=0\r\n",
        "    while(l2_norm(t*u)>eps):\r\n",
        "      u= -1*grad(X)\r\n",
        "      t= 1\r\n",
        "      while(fx(X+t*u)>(fx(X)+alpha * t* np.sum(grad(x)*u))):\r\n",
        "        t = t*beta\r\n",
        "      X = X + t*u\r\n",
        "      k+=1\r\n",
        "      print(f'iter {k} : f(x)={fx(X)} grad(x)={l2_norm(grad(X))}')\r\n",
        "    print(f'final f(x) at {k}th iter : {fx(X)}')\r\n",
        "    return [k, X, fx(X)]\r\n"
      ],
      "execution_count": 142,
      "outputs": []
    },
    {
      "cell_type": "code",
      "metadata": {
        "id": "StMstxS9ebA7"
      },
      "source": [
        "X0 = np.array([10,100,100,10])\r\n",
        "print(grad(x))\r\n",
        "backtracking(X0, alpha=0.5, beta=0.5, eps=10**(-7))\r\n",
        "print(k, X, fx(X))"
      ],
      "execution_count": null,
      "outputs": []
    },
    {
      "cell_type": "markdown",
      "metadata": {
        "id": "tF01xQwHj5mi"
      },
      "source": [
        "# Q7 Golden section search and Fibonacci search"
      ]
    },
    {
      "cell_type": "code",
      "metadata": {
        "id": "a3LDo-S1kBik"
      },
      "source": [
        "def foo(x):\r\n",
        "  return np.exp(-x)-np.cos(x)\r\n",
        "\r\n",
        "def GS_Search(a, b, eps):\r\n",
        "  xl = a\r\n",
        "  xu = b\r\n",
        "  k = 0\r\n",
        "  l = 0.5* (1+ np.sqrt(5))\r\n",
        "  r = l/(1+l)\r\n",
        "  tol = 0.5*(xu - xl)\r\n",
        "  while(tol>eps):\r\n",
        "    d = (xu - xl)*r\r\n",
        "    xn = xu - d\r\n",
        "    xp = xl + d\r\n",
        "    if(foo(xn)<foo(xp)):\r\n",
        "      xu = xp\r\n",
        "    else:\r\n",
        "      xl = xn\r\n",
        "    k+=2\r\n",
        "    tol = 0.5*(xu - xl)\r\n",
        "  return [0.5*(xu+xl), tol, k]\r\n",
        "    \r\n",
        "def Fibo_Search(a, b, N):\r\n",
        "  xl = a\r\n",
        "  xu = b\r\n",
        "  k = 0\r\n",
        "  f = np.zeros((N+1))\r\n",
        "  f[0]=1\r\n",
        "  f[1]=1\r\n",
        "  for j in range(2,N+1):\r\n",
        "    f[j]=f[j-1]+f[j-2]\r\n",
        "\r\n",
        "  for  i in range(1,N):\r\n",
        "    #print(i,N-i,N-i+1)\r\n",
        "    r = f[N-i]/f[N-i+1]\r\n",
        "    d = (xu - xl)*r\r\n",
        "    xn = xu - d\r\n",
        "    xp = xl + d\r\n",
        "    if(foo(xn)<foo(xp)):\r\n",
        "      xu = xp\r\n",
        "    else:\r\n",
        "      xl = xn\r\n",
        "    k+=2\r\n",
        "    tol = 0.5*(xu - xl)\r\n",
        "  return [0.5*(xu+xl), tol, k]\r\n",
        "\r\n"
      ],
      "execution_count": 185,
      "outputs": []
    },
    {
      "cell_type": "code",
      "metadata": {
        "id": "aunso8cenpg2",
        "outputId": "75418d89-1983-474b-e221-54417f4852a5",
        "colab": {
          "base_uri": "https://localhost:8080/"
        }
      },
      "source": [
        "x_opt, tol, nsc_20 = Fibo_Search(0,1,20)\r\n",
        "print(f'Fibo N= 20: {x_opt, tol, nsc_20}')\r\n",
        "x_opt, tol, nsc = GS_Search(0,1,tol)\r\n",
        "print(f'GS for tol from N=20: {x_opt, tol, nsc}')\r\n",
        "\r\n",
        "x_opt, tol, nsc_10 = Fibo_Search(0,1,10)\r\n",
        "print(f'Fibo N= 10: {x_opt, tol, nsc_10}')\r\n",
        "x_opt, tol, nsc = GS_Search(0,1,tol)\r\n",
        "print(f'GS for tol from N=10: {x_opt, tol, nsc}')"
      ],
      "execution_count": 191,
      "outputs": [
        {
          "output_type": "stream",
          "text": [
            "Fibo N= 20: (0.5885711675497899, 4.567878677141923e-05, 38)\n",
            "GS for tol from N=20: (0.588543223912219, 3.30534806759486e-05, 40)\n",
            "Fibo N= 10: (0.5898876404494382, 0.005617977528089846, 18)\n",
            "GS for tol from N=10: (0.5876574443791536, 0.004065309377891679, 20)\n"
          ],
          "name": "stdout"
        }
      ]
    }
  ]
}